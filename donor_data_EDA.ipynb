{
 "cells": [
  {
   "cell_type": "markdown",
   "metadata": {},
   "source": [
    "# Introducing the dataset of donors for a particular event"
   ]
  },
  {
   "cell_type": "markdown",
   "metadata": {},
   "source": [
    "### Data Set Information:\n",
    "\n",
    "**This is a dataset collected from web and contains the following information**\n",
    "\n",
    "- The full name of the persons\n",
    "- Their employment details\n",
    "- City, State and zip code information\n",
    "- Amount they have contributed\n"
   ]
  },
  {
   "cell_type": "markdown",
   "metadata": {},
   "source": [
    "### Possible Business Question\n",
    "\n",
    "**Is their any relationship between their employment details and city with the amount they have donated?**"
   ]
  },
  {
   "cell_type": "markdown",
   "metadata": {},
   "source": [
    "### OBJECTIVE \n",
    "\n",
    "**The objective of this project is to carry out Exploratory Data Analysis for the above mentioned business question**"
   ]
  },
  {
   "cell_type": "markdown",
   "metadata": {},
   "source": [
    "### Step 1- Data cleansing\n",
    "- Deleted the extraneous columns\n",
    "- Changed the variables to correct data types\n",
    "- Cleansed the Employer category and replaced the similar terms into one category"
   ]
  },
  {
   "cell_type": "code",
   "execution_count": 366,
   "metadata": {},
   "outputs": [],
   "source": [
    "#Importing the required libraries\n",
    "import pandas as pd\n",
    "import matplotlib.pyplot as plt\n",
    "import numpy as np"
   ]
  },
  {
   "cell_type": "code",
   "execution_count": 367,
   "metadata": {},
   "outputs": [
    {
     "name": "stdout",
     "output_type": "stream",
     "text": [
      "total 123128\n",
      "-rw-r--r-- 1 karis 197609    122006 Mar 10  2018 donors2008.csv\n",
      "-rw-r--r-- 1 karis 197609   2867208 May 20 20:39 credit_card_default.csv\n",
      "-rw-r--r-- 1 karis 197609 122899180 May 24 18:04 U.S._Chronic_Disease_Indicators.csv\n",
      "-rw-r--r-- 1 karis 197609     36305 May 26 09:32 ch2_2_credit_card_default.ipynb\n",
      "-rw-r--r-- 1 karis 197609    151528 May 27 02:41 donor_data_EDA.ipynb\n"
     ]
    }
   ],
   "source": [
    "!ls -lrt"
   ]
  },
  {
   "cell_type": "code",
   "execution_count": 368,
   "metadata": {},
   "outputs": [],
   "source": [
    "#Changes the encoding as it threw error with the default encoding\n",
    "donor_df=pd.read_csv('donors2008.csv',encoding = \"ISO-8859-1\")"
   ]
  },
  {
   "cell_type": "code",
   "execution_count": 369,
   "metadata": {},
   "outputs": [
    {
     "data": {
      "text/html": [
       "<div>\n",
       "<style scoped>\n",
       "    .dataframe tbody tr th:only-of-type {\n",
       "        vertical-align: middle;\n",
       "    }\n",
       "\n",
       "    .dataframe tbody tr th {\n",
       "        vertical-align: top;\n",
       "    }\n",
       "\n",
       "    .dataframe thead th {\n",
       "        text-align: right;\n",
       "    }\n",
       "</style>\n",
       "<table border=\"1\" class=\"dataframe\">\n",
       "  <thead>\n",
       "    <tr style=\"text-align: right;\">\n",
       "      <th></th>\n",
       "      <th>LastName</th>\n",
       "      <th>FirstName</th>\n",
       "      <th>Employer</th>\n",
       "      <th>City</th>\n",
       "      <th>State</th>\n",
       "      <th>Zip</th>\n",
       "      <th>Amount</th>\n",
       "      <th>FIELD8</th>\n",
       "    </tr>\n",
       "  </thead>\n",
       "  <tbody>\n",
       "    <tr>\n",
       "      <th>0</th>\n",
       "      <td>Aaron</td>\n",
       "      <td>Eugene</td>\n",
       "      <td>State Department</td>\n",
       "      <td>Dulles</td>\n",
       "      <td>VA</td>\n",
       "      <td>20189</td>\n",
       "      <td>500.0</td>\n",
       "      <td>NaN</td>\n",
       "    </tr>\n",
       "    <tr>\n",
       "      <th>1</th>\n",
       "      <td>Abadi</td>\n",
       "      <td>Barbara</td>\n",
       "      <td>Abadi &amp; Co.</td>\n",
       "      <td>New York</td>\n",
       "      <td>NY</td>\n",
       "      <td>10021</td>\n",
       "      <td>200.0</td>\n",
       "      <td>NaN</td>\n",
       "    </tr>\n",
       "    <tr>\n",
       "      <th>2</th>\n",
       "      <td>Adamany</td>\n",
       "      <td>Anthony</td>\n",
       "      <td>Retired</td>\n",
       "      <td>Rockford</td>\n",
       "      <td>IL</td>\n",
       "      <td>61103</td>\n",
       "      <td>500.0</td>\n",
       "      <td>NaN</td>\n",
       "    </tr>\n",
       "    <tr>\n",
       "      <th>3</th>\n",
       "      <td>Adams</td>\n",
       "      <td>Lorraine</td>\n",
       "      <td>Self</td>\n",
       "      <td>New York</td>\n",
       "      <td>NY</td>\n",
       "      <td>10026</td>\n",
       "      <td>200.0</td>\n",
       "      <td>NaN</td>\n",
       "    </tr>\n",
       "    <tr>\n",
       "      <th>4</th>\n",
       "      <td>Adams</td>\n",
       "      <td>Marion</td>\n",
       "      <td>None</td>\n",
       "      <td>Exeter</td>\n",
       "      <td>NH</td>\n",
       "      <td>03833</td>\n",
       "      <td>100.0</td>\n",
       "      <td>NaN</td>\n",
       "    </tr>\n",
       "  </tbody>\n",
       "</table>\n",
       "</div>"
      ],
      "text/plain": [
       "  LastName FirstName          Employer      City State    Zip  Amount  FIELD8\n",
       "0    Aaron    Eugene  State Department    Dulles    VA  20189   500.0     NaN\n",
       "1    Abadi   Barbara       Abadi & Co.  New York    NY  10021   200.0     NaN\n",
       "2  Adamany   Anthony           Retired  Rockford    IL  61103   500.0     NaN\n",
       "3    Adams  Lorraine              Self  New York    NY  10026   200.0     NaN\n",
       "4    Adams    Marion              None    Exeter    NH  03833   100.0     NaN"
      ]
     },
     "execution_count": 369,
     "metadata": {},
     "output_type": "execute_result"
    }
   ],
   "source": [
    "donor_df.head()"
   ]
  },
  {
   "cell_type": "code",
   "execution_count": 370,
   "metadata": {},
   "outputs": [
    {
     "data": {
      "text/plain": [
       "(1776, 8)"
      ]
     },
     "execution_count": 370,
     "metadata": {},
     "output_type": "execute_result"
    }
   ],
   "source": [
    "#Checking the rows and columns of the dataset\n",
    "donor_df.shape"
   ]
  },
  {
   "cell_type": "code",
   "execution_count": 371,
   "metadata": {},
   "outputs": [
    {
     "data": {
      "text/plain": [
       "LastName     1776\n",
       "FirstName    1776\n",
       "Employer     1743\n",
       "City         1776\n",
       "State        1776\n",
       "Zip          1776\n",
       "Amount       1776\n",
       "FIELD8          0\n",
       "dtype: int64"
      ]
     },
     "execution_count": 371,
     "metadata": {},
     "output_type": "execute_result"
    }
   ],
   "source": [
    "#Counting the number observations for each variable\n",
    "donor_df.count()"
   ]
  },
  {
   "cell_type": "code",
   "execution_count": 372,
   "metadata": {},
   "outputs": [
    {
     "data": {
      "text/html": [
       "<div>\n",
       "<style scoped>\n",
       "    .dataframe tbody tr th:only-of-type {\n",
       "        vertical-align: middle;\n",
       "    }\n",
       "\n",
       "    .dataframe tbody tr th {\n",
       "        vertical-align: top;\n",
       "    }\n",
       "\n",
       "    .dataframe thead th {\n",
       "        text-align: right;\n",
       "    }\n",
       "</style>\n",
       "<table border=\"1\" class=\"dataframe\">\n",
       "  <thead>\n",
       "    <tr style=\"text-align: right;\">\n",
       "      <th></th>\n",
       "      <th>LastName</th>\n",
       "      <th>FirstName</th>\n",
       "      <th>Employer</th>\n",
       "      <th>City</th>\n",
       "      <th>State</th>\n",
       "      <th>Zip</th>\n",
       "      <th>Amount</th>\n",
       "    </tr>\n",
       "  </thead>\n",
       "  <tbody>\n",
       "    <tr>\n",
       "      <th>0</th>\n",
       "      <td>Aaron</td>\n",
       "      <td>Eugene</td>\n",
       "      <td>State Department</td>\n",
       "      <td>Dulles</td>\n",
       "      <td>VA</td>\n",
       "      <td>20189</td>\n",
       "      <td>500.0</td>\n",
       "    </tr>\n",
       "    <tr>\n",
       "      <th>1</th>\n",
       "      <td>Abadi</td>\n",
       "      <td>Barbara</td>\n",
       "      <td>Abadi &amp; Co.</td>\n",
       "      <td>New York</td>\n",
       "      <td>NY</td>\n",
       "      <td>10021</td>\n",
       "      <td>200.0</td>\n",
       "    </tr>\n",
       "    <tr>\n",
       "      <th>2</th>\n",
       "      <td>Adamany</td>\n",
       "      <td>Anthony</td>\n",
       "      <td>Retired</td>\n",
       "      <td>Rockford</td>\n",
       "      <td>IL</td>\n",
       "      <td>61103</td>\n",
       "      <td>500.0</td>\n",
       "    </tr>\n",
       "    <tr>\n",
       "      <th>3</th>\n",
       "      <td>Adams</td>\n",
       "      <td>Lorraine</td>\n",
       "      <td>Self</td>\n",
       "      <td>New York</td>\n",
       "      <td>NY</td>\n",
       "      <td>10026</td>\n",
       "      <td>200.0</td>\n",
       "    </tr>\n",
       "    <tr>\n",
       "      <th>4</th>\n",
       "      <td>Adams</td>\n",
       "      <td>Marion</td>\n",
       "      <td>None</td>\n",
       "      <td>Exeter</td>\n",
       "      <td>NH</td>\n",
       "      <td>03833</td>\n",
       "      <td>100.0</td>\n",
       "    </tr>\n",
       "  </tbody>\n",
       "</table>\n",
       "</div>"
      ],
      "text/plain": [
       "  LastName FirstName          Employer      City State    Zip  Amount\n",
       "0    Aaron    Eugene  State Department    Dulles    VA  20189   500.0\n",
       "1    Abadi   Barbara       Abadi & Co.  New York    NY  10021   200.0\n",
       "2  Adamany   Anthony           Retired  Rockford    IL  61103   500.0\n",
       "3    Adams  Lorraine              Self  New York    NY  10026   200.0\n",
       "4    Adams    Marion              None    Exeter    NH  03833   100.0"
      ]
     },
     "execution_count": 372,
     "metadata": {},
     "output_type": "execute_result"
    }
   ],
   "source": [
    "# Deleted extraneous column\n",
    "del donor_df['FIELD8']\n",
    "donor_df.head()"
   ]
  },
  {
   "cell_type": "code",
   "execution_count": 373,
   "metadata": {},
   "outputs": [
    {
     "data": {
      "text/plain": [
       "LastName      object\n",
       "FirstName     object\n",
       "Employer      object\n",
       "City          object\n",
       "State         object\n",
       "Zip           object\n",
       "Amount       float64\n",
       "dtype: object"
      ]
     },
     "execution_count": 373,
     "metadata": {},
     "output_type": "execute_result"
    }
   ],
   "source": [
    "#Checking the datatypes\n",
    "donor_df.dtypes"
   ]
  },
  {
   "cell_type": "code",
   "execution_count": 374,
   "metadata": {},
   "outputs": [
    {
     "data": {
      "text/plain": [
       "dtype('float64')"
      ]
     },
     "execution_count": 374,
     "metadata": {},
     "output_type": "execute_result"
    }
   ],
   "source": [
    "# Use pd.to_numeric() method to convert the datatype of the Amount column\n",
    "donor_df['Amount'] = pd.to_numeric(donor_df['Amount'])\n",
    "donor_df['Amount'].dtype"
   ]
  },
  {
   "cell_type": "code",
   "execution_count": 375,
   "metadata": {},
   "outputs": [
    {
     "data": {
      "text/plain": [
       "None                                     249\n",
       "Self                                     241\n",
       "Retired                                  126\n",
       "Self Employed                             39\n",
       "Self-Employed                             34\n",
       "Google                                     6\n",
       "Unemployed                                 4\n",
       "Not Employed                               4\n",
       "Bank Of America                            3\n",
       "Social Security Administration             3\n",
       "University of California                   3\n",
       "United Health Group                        2\n",
       "Covington & Burling                        2\n",
       "Google, Inc.                               2\n",
       "UCLA                                       2\n",
       "Sidley Austin LLP                          2\n",
       "Harvard University                         2\n",
       "Mayer Brown                                2\n",
       "University of Michigan                     2\n",
       "University of Washington                   2\n",
       "University Of Michigan                     2\n",
       "ExxonMobil                                 2\n",
       "Ariel Investments                          2\n",
       "Berger & Montague                          2\n",
       "Skadden, Arps                              2\n",
       "University Hospital                        2\n",
       "Quadrangle Group                           2\n",
       "Kaiser Permanente                          2\n",
       "State Department                           2\n",
       "Rainey Cluss LLC                           2\n",
       "                                        ... \n",
       "Trieangle Aftercare                        1\n",
       "Charles River Ventures                     1\n",
       "Shasta Child Abuse Prevention Council      1\n",
       "Fine Press                                 1\n",
       "CD Publications                            1\n",
       "Sinaiko Healthcare                         1\n",
       "Hexcel Corporation                         1\n",
       "BrightRoll Inc.                            1\n",
       "BD (Becton, Dickinson and Co.)             1\n",
       "Datakey Electronics                        1\n",
       "Att                                        1\n",
       "Alps Incorporated                          1\n",
       "Buss Global                                1\n",
       "Monroe Clinic                              1\n",
       "Kiene, Hand & Co                           1\n",
       "Federal Civil Service                      1\n",
       "Wachovia Securities                        1\n",
       "Kachina Accounting Services Inc            1\n",
       "Baruch College                             1\n",
       "Princeton University                       1\n",
       "Califronia Men's Colony                    1\n",
       "Allegheny Energy, Inc.                     1\n",
       "Turner Entertainment Network, Inc.         1\n",
       "GPS Solutions, Inc                         1\n",
       "Dowl                                       1\n",
       "Oceanserver Technology, Inc                1\n",
       "Clifford Law Offices, P.C.                 1\n",
       "SLEF/JTSA                                  1\n",
       "Westec Corporation                         1\n",
       "Capricorn Management, LLC                  1\n",
       "Name: Employer, Length: 1011, dtype: int64"
      ]
     },
     "execution_count": 375,
     "metadata": {},
     "output_type": "execute_result"
    }
   ],
   "source": [
    "# Display an overview of the Employers column\n",
    "donor_df['Employer'].value_counts()"
   ]
  },
  {
   "cell_type": "code",
   "execution_count": 376,
   "metadata": {},
   "outputs": [],
   "source": [
    "# Cleansed the Employer category and replaced the similar terms into one category\n",
    "donor_df['Employer'] = donor_df['Employer'].replace({'Self Employed':'Self-Employed', \n",
    "                                                     'Self': 'Self-Employed',\n",
    "                                                     'Not Employed': 'Unemployed',\n",
    "                                                    'None':'Not Disclosed'})\n"
   ]
  },
  {
   "cell_type": "code",
   "execution_count": 377,
   "metadata": {},
   "outputs": [
    {
     "data": {
      "text/plain": [
       "Self-Employed                            314\n",
       "Not Disclosed                            249\n",
       "Retired                                  126\n",
       "Unemployed                                 8\n",
       "Google                                     6\n",
       "Bank Of America                            3\n",
       "University of California                   3\n",
       "Social Security Administration             3\n",
       "Sidley Austin LLP                          2\n",
       "UCLA                                       2\n",
       "Rainey Cluss LLC                           2\n",
       "Skadden, Arps                              2\n",
       "Harvard University                         2\n",
       "United Health Group                        2\n",
       "Davis Polk & Wardwell                      2\n",
       "University Of Michigan                     2\n",
       "Covington & Burling                        2\n",
       "University Hospital                        2\n",
       "Google, Inc.                               2\n",
       "CSC                                        2\n",
       "Ariel Investments                          2\n",
       "Jones Day                                  2\n",
       "ExxonMobil                                 2\n",
       "University of Michigan                     2\n",
       "Berger & Montague                          2\n",
       "University of Washington                   2\n",
       "Northern Trust                             2\n",
       "Quadrangle Group                           2\n",
       "Freelance                                  2\n",
       "Mayer Brown LLP                            2\n",
       "                                        ... \n",
       "Kohn Law Group, Inc.                       1\n",
       "Trieangle Aftercare                        1\n",
       "Federal Civil Service                      1\n",
       "CD Publications                            1\n",
       "Sinaiko Healthcare                         1\n",
       "Hexcel Corporation                         1\n",
       "BrightRoll Inc.                            1\n",
       "BD (Becton, Dickinson and Co.)             1\n",
       "Datakey Electronics                        1\n",
       "Att                                        1\n",
       "Alps Incorporated                          1\n",
       "Buss Global                                1\n",
       "Monroe Clinic                              1\n",
       "Kiene, Hand & Co                           1\n",
       "Shasta Child Abuse Prevention Council      1\n",
       "Kachina Accounting Services Inc            1\n",
       "Charles River Ventures                     1\n",
       "Baruch College                             1\n",
       "Princeton University                       1\n",
       "Califronia Men's Colony                    1\n",
       "Allegheny Energy, Inc.                     1\n",
       "Turner Entertainment Network, Inc.         1\n",
       "GPS Solutions, Inc                         1\n",
       "Dowl                                       1\n",
       "Oceanserver Technology, Inc                1\n",
       "Clifford Law Offices, P.C.                 1\n",
       "SLEF/JTSA                                  1\n",
       "Westec Corporation                         1\n",
       "Wachovia Securities                        1\n",
       "Capricorn Management, LLC                  1\n",
       "Name: Employer, Length: 1008, dtype: int64"
      ]
     },
     "execution_count": 377,
     "metadata": {},
     "output_type": "execute_result"
    }
   ],
   "source": [
    "# Verify clean-up. \n",
    "donor_df['Employer'].value_counts()"
   ]
  },
  {
   "cell_type": "markdown",
   "metadata": {},
   "source": [
    "### Step 2- Data exploration\n",
    "- Understand Employer's contribution\n",
    "- Understand contribution based on State\n"
   ]
  },
  {
   "cell_type": "code",
   "execution_count": 378,
   "metadata": {},
   "outputs": [
    {
     "data": {
      "text/plain": [
       "count      1008.0\n",
       "mean       1107.0\n",
       "std        7317.0\n",
       "min           5.0\n",
       "25%         200.0\n",
       "50%         250.0\n",
       "75%         500.0\n",
       "max      197556.0\n",
       "Name: Total Amount, dtype: float64"
      ]
     },
     "execution_count": 378,
     "metadata": {},
     "output_type": "execute_result"
    }
   ],
   "source": [
    "#Calculated the sum donated by each employer\n",
    "employer_details=donor_df.groupby(['Employer']).sum()['Amount']\n",
    "\n",
    "#changed the above 'employer_details' float variable to dataframe\n",
    "employer_details=pd.DataFrame({\"Total Amount\":employer_details})\n",
    "employer_details=employer_details.reset_index(level=['Employer'])\n",
    "employer_details['Total Amount'].describe().round()"
   ]
  },
  {
   "cell_type": "code",
   "execution_count": 379,
   "metadata": {},
   "outputs": [
    {
     "data": {
      "text/plain": [
       "Text(0.5,1,'Box Plot for Total Amount')"
      ]
     },
     "execution_count": 379,
     "metadata": {},
     "output_type": "execute_result"
    },
    {
     "data": {
      "image/png": "[encoded data removed]",
      "text/plain": [
       "<matplotlib.figure.Figure at 0x2b13e4766a0>"
      ]
     },
     "metadata": {},
     "output_type": "display_data"
    }
   ],
   "source": [
    "#Is the max amount really an outlier?\n",
    "plt.boxplot(x=employer_details['Total Amount'])\n",
    "plt.title('Box Plot for Total Amount')"
   ]
  },
  {
   "cell_type": "code",
   "execution_count": 380,
   "metadata": {},
   "outputs": [
    {
     "data": {
      "text/html": [
       "<div>\n",
       "<style scoped>\n",
       "    .dataframe tbody tr th:only-of-type {\n",
       "        vertical-align: middle;\n",
       "    }\n",
       "\n",
       "    .dataframe tbody tr th {\n",
       "        vertical-align: top;\n",
       "    }\n",
       "\n",
       "    .dataframe thead th {\n",
       "        text-align: right;\n",
       "    }\n",
       "</style>\n",
       "<table border=\"1\" class=\"dataframe\">\n",
       "  <thead>\n",
       "    <tr style=\"text-align: right;\">\n",
       "      <th></th>\n",
       "      <th>Employer</th>\n",
       "      <th>Total Amount</th>\n",
       "    </tr>\n",
       "  </thead>\n",
       "  <tbody>\n",
       "    <tr>\n",
       "      <th>593</th>\n",
       "      <td>Not Disclosed</td>\n",
       "      <td>105645.44</td>\n",
       "    </tr>\n",
       "    <tr>\n",
       "      <th>705</th>\n",
       "      <td>Retired</td>\n",
       "      <td>43875.00</td>\n",
       "    </tr>\n",
       "    <tr>\n",
       "      <th>753</th>\n",
       "      <td>Self-Employed</td>\n",
       "      <td>197556.00</td>\n",
       "    </tr>\n",
       "    <tr>\n",
       "      <th>909</th>\n",
       "      <td>Unemployed</td>\n",
       "      <td>11950.00</td>\n",
       "    </tr>\n",
       "  </tbody>\n",
       "</table>\n",
       "</div>"
      ],
      "text/plain": [
       "          Employer  Total Amount\n",
       "593  Not Disclosed     105645.44\n",
       "705        Retired      43875.00\n",
       "753  Self-Employed     197556.00\n",
       "909     Unemployed      11950.00"
      ]
     },
     "execution_count": 380,
     "metadata": {},
     "output_type": "execute_result"
    }
   ],
   "source": [
    "#Split the dataset into two halves for analysis\n",
    "#1. Containing only the observations with distinct employer information\n",
    "#2. No employer information\n",
    "\n",
    "no_employer_df=employer_details.loc[employer_details['Employer'].isin(['Self-Employed','Not Disclosed','Retired','Unemployed'])]\n",
    "no_employer_df"
   ]
  },
  {
   "cell_type": "code",
   "execution_count": 381,
   "metadata": {},
   "outputs": [
    {
     "data": {
      "text/plain": [
       "Text(0.5,1,'Contribution made by persons with no distinct employment information')"
      ]
     },
     "execution_count": 381,
     "metadata": {},
     "output_type": "execute_result"
    },
    {
     "data": {
      "image/png": "[encoded data removed]",
      "text/plain": [
       "<matplotlib.figure.Figure at 0x2b13e4c8320>"
      ]
     },
     "metadata": {},
     "output_type": "display_data"
    }
   ],
   "source": [
    "plt.pie(x=no_employer_df['Total Amount'],labels=no_employer_df['Employer'],autopct='%.0f%%')\n",
    "\n",
    "plt.title('Contribution made by persons with no distinct employment information')"
   ]
  },
  {
   "cell_type": "code",
   "execution_count": 382,
   "metadata": {},
   "outputs": [
    {
     "data": {
      "text/plain": [
       "count     1004.0\n",
       "mean       754.0\n",
       "std       1523.0\n",
       "min          5.0\n",
       "25%        200.0\n",
       "50%        250.0\n",
       "75%        500.0\n",
       "max      11450.0\n",
       "Name: Total Amount, dtype: float64"
      ]
     },
     "execution_count": 382,
     "metadata": {},
     "output_type": "execute_result"
    }
   ],
   "source": [
    "#Containing only the observations with distinct employer information\n",
    "employer_df=employer_details.loc[~employer_details['Employer'].isin(['Self-Employed','Not Disclosed','Retired','Unemployed'])]\n",
    "employer_df['Total Amount'].describe().round()"
   ]
  },
  {
   "cell_type": "code",
   "execution_count": 383,
   "metadata": {},
   "outputs": [
    {
     "data": {
      "text/plain": [
       "Text(0.5,1,'Box Plot for Total Amount')"
      ]
     },
     "execution_count": 383,
     "metadata": {},
     "output_type": "execute_result"
    },
    {
     "data": {
      "image/png": "[encoded data removed]",
      "text/plain": [
       "<matplotlib.figure.Figure at 0x2b13e7b0da0>"
      ]
     },
     "metadata": {},
     "output_type": "display_data"
    }
   ],
   "source": [
    "#Recheck the outliers after splitting\n",
    "plt.boxplot(x=employer_df['Total Amount'])\n",
    "plt.title('Box Plot for Total Amount')"
   ]
  },
  {
   "cell_type": "code",
   "execution_count": 384,
   "metadata": {},
   "outputs": [
    {
     "data": {
      "text/plain": [
       "Employer        154\n",
       "Total Amount    154\n",
       "dtype: int64"
      ]
     },
     "execution_count": 384,
     "metadata": {},
     "output_type": "execute_result"
    }
   ],
   "source": [
    "#Considering the business question we cannot ignore these outliers,so, selecting all the employers who donated more than mean\n",
    "top_employers_df=employer_df.loc[employer_df['Total Amount']>765]\n",
    "top_employers_df.count()"
   ]
  },
  {
   "cell_type": "code",
   "execution_count": 395,
   "metadata": {},
   "outputs": [
    {
     "data": {
      "text/plain": [
       "Text(0.5,1,'Top 30 Employers')"
      ]
     },
     "execution_count": 395,
     "metadata": {},
     "output_type": "execute_result"
    },
    {
     "data": {
      "image/png": "[encoded data removed]",
      "text/plain": [
       "<matplotlib.figure.Figure at 0x2b13f462160>"
      ]
     },
     "metadata": {},
     "output_type": "display_data"
    }
   ],
   "source": [
    "top_30_df=top_employers_df.sort_values(['Total Amount'],ascending=[False]).head(30)\n",
    "\n",
    "plt.figure(figsize=(20, 5))\n",
    "x_axis=top_30_df['Employer']\n",
    "y_axis=top_30_df['Total Amount']\n",
    "plt.bar(x_axis,y_axis, color='lightcoral')\n",
    "\n",
    "# tick_locations=[value for value in np.arange(25)]\n",
    "plt.xticks(rotation=90)\n",
    "\n",
    "plt.title(\"Top 30 Employers\")"
   ]
  },
  {
   "cell_type": "markdown",
   "metadata": {},
   "source": [
    "**From initial analysis, it can be seen that Google,Self-Employed & persons who did Not-Disclose employment details donated the highest amount**\n",
    "**Further analysis needed with the dataframe where emplyoment details are not distinct** "
   ]
  },
  {
   "cell_type": "code",
   "execution_count": 386,
   "metadata": {},
   "outputs": [
    {
     "data": {
      "text/plain": [
       "count        53.0\n",
       "mean      22093.0\n",
       "std       45535.0\n",
       "min         100.0\n",
       "25%        1700.0\n",
       "50%        3625.0\n",
       "75%       21575.0\n",
       "max      250796.0\n",
       "Name: Total Amount, dtype: float64"
      ]
     },
     "execution_count": 386,
     "metadata": {},
     "output_type": "execute_result"
    }
   ],
   "source": [
    "#Calculated the sum donated based on state\n",
    "donation_bystate=donor_df.groupby(['State']).sum()['Amount']\n",
    "\n",
    "#changed the above 'donation_bystate' float variable to dataframe\n",
    "donation_bystate_df=pd.DataFrame({\"Total Amount\":donation_bystate})\n",
    "donation_bystate_df=donation_bystate_df.reset_index(level=['State'])\n",
    "donation_bystate_df['Total Amount'].describe().round()"
   ]
  },
  {
   "cell_type": "code",
   "execution_count": 387,
   "metadata": {},
   "outputs": [
    {
     "data": {
      "text/plain": [
       "Text(0.5,1,'Box Plot for Total Amount by State')"
      ]
     },
     "execution_count": 387,
     "metadata": {},
     "output_type": "execute_result"
    },
    {
     "data": {
      "image/png": "[encoded data removed]",
      "text/plain": [
       "<matplotlib.figure.Figure at 0x2b13e7fddd8>"
      ]
     },
     "metadata": {},
     "output_type": "display_data"
    }
   ],
   "source": [
    "#Check outliers?\n",
    "plt.boxplot(x=donation_bystate_df['Total Amount'])\n",
    "plt.title('Box Plot for Total Amount by State')"
   ]
  },
  {
   "cell_type": "code",
   "execution_count": 388,
   "metadata": {},
   "outputs": [
    {
     "data": {
      "text/plain": [
       "State           53\n",
       "Total Amount    53\n",
       "dtype: int64"
      ]
     },
     "execution_count": 388,
     "metadata": {},
     "output_type": "execute_result"
    }
   ],
   "source": [
    "#Again,considering the business question we cannot ignore these outliers,however, we could have ignored the outliers below lower limit.\n",
    "donation_bystate_df.count()"
   ]
  },
  {
   "cell_type": "code",
   "execution_count": 389,
   "metadata": {},
   "outputs": [
    {
     "data": {
      "text/plain": [
       "Text(0.5,1,'Donation Amount by State')"
      ]
     },
     "execution_count": 389,
     "metadata": {},
     "output_type": "execute_result"
    },
    {
     "data": {
      "image/png": "[encoded data removed]",
      "text/plain": [
       "<matplotlib.figure.Figure at 0x2b13e84d6d8>"
      ]
     },
     "metadata": {},
     "output_type": "display_data"
    }
   ],
   "source": [
    "\n",
    "plt.figure(figsize=(20, 5))\n",
    "x_axis=donation_bystate_df['State']\n",
    "y_axis=donation_bystate_df['Total Amount']\n",
    "plt.bar(x_axis,y_axis)\n",
    "\n",
    "# tick_locations=[value for value in np.arange(25)]\n",
    "plt.xticks(rotation=90)\n",
    "\n",
    "plt.title(\"Donation Amount by State\")"
   ]
  },
  {
   "cell_type": "markdown",
   "metadata": {},
   "source": [
    "**Clearly, CA,NY and IL are top 3 states**"
   ]
  },
  {
   "cell_type": "markdown",
   "metadata": {},
   "source": [
    "### EDA ANALYSIS and POSSIBLE CONCLUSION\n",
    "- Highest contribution of around 200K is made by Self Employed persons which makes the dataset biased with a mean of 1107.00  dollars and standard deviation of 7317.00 dollars.  Also, many of them preferred not to disclose their employer’s information.\n",
    "Due to this, split the dataset based on Employer’s information availability.\n",
    "- However, further analysis needs to be carried out on \"Not-Disclosed\" & \"Self-Employed\" category for concrete conslusion.\n",
    "- EDA analysis on donation by state was done, but for more better results, more analysis is required on State's and zip codes data and their relationship with Employer feature. \n",
    "\n",
    "**From initial analysis, Google,Self-Employed & persons who did not disclose employment details donated the highest amount**\n",
    "\n",
    "**Top 3 states which donated the maximum ammount is CA, NY and IL**\n",
    "\n",
    "\n"
   ]
  },
  {
   "cell_type": "code",
   "execution_count": null,
   "metadata": {},
   "outputs": [],
   "source": []
  }
 ],
 "metadata": {
  "kernelspec": {
   "display_name": "Python 3",
   "language": "python",
   "name": "python3"
  },
  "language_info": {
   "codemirror_mode": {
    "name": "ipython",
    "version": 3
   },
   "file_extension": ".py",
   "mimetype": "text/x-python",
   "name": "python",
   "nbconvert_exporter": "python",
   "pygments_lexer": "ipython3",
   "version": "3.6.4"
  }
 },
 "nbformat": 4,
 "nbformat_minor": 2
}
